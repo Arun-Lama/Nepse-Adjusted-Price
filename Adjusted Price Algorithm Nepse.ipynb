{
 "cells": [
  {
   "cell_type": "markdown",
   "metadata": {},
   "source": [
    "### Potential Errors to Notice"
   ]
  },
  {
   "cell_type": "markdown",
   "metadata": {},
   "source": [
    "#### 1. If there is no price history data before the first book close date, there will be error regarding indexing.  so make sure there              is data in excel before the first book close date\n",
    "#### 2. Also, if there is no price data before first book closure date, the adjusted price series will be missing in the initial phase dates.\n",
    "#### 3. If there is error \"cannot convert string i.e. 1900/1/1.....to float\" then edit the right ratio data manually in excel.\n",
    "#### 4. Same data repeat in cash, bonus, and rightshare\n",
    "#### 5. It is important to sort the unadjusted data before fragmentation. If there's no any adjustment the raw data has to be sorted \n"
   ]
  },
  {
   "cell_type": "markdown",
   "metadata": {},
   "source": [
    "# PART I - Dividend and Right Data Collection"
   ]
  },
  {
   "cell_type": "code",
   "execution_count": 1,
   "metadata": {},
   "outputs": [],
   "source": [
    "import pandas as pd"
   ]
  },
  {
   "cell_type": "markdown",
   "metadata": {},
   "source": [
    "### Sample Stocks List"
   ]
  },
  {
   "cell_type": "code",
   "execution_count": 2,
   "metadata": {},
   "outputs": [],
   "source": [
    "samples  = pd.read_csv('D:/Thesis/Sample stocks.csv')"
   ]
  },
  {
   "cell_type": "markdown",
   "metadata": {},
   "source": [
    "### Historical Price"
   ]
  },
  {
   "cell_type": "code",
   "execution_count": 3,
   "metadata": {},
   "outputs": [],
   "source": [
    "data = pd.read_csv(r'D:/Thesis/TodaysPrice Nov 2011-09 March 2023.csv', encoding= 'unicode_escape', low_memory= False)\n",
    "data = data[data['Ticker'].isin(samples.Ticker)]\n",
    "ticker_wise_data = data[['Date','Ticker','Open', 'High', 'Low', 'Close','Traded Shares']]\n",
    "new_ticker_wise_data = ticker_wise_data.copy()\n",
    "new_ticker_wise_data['Date'] = pd.to_datetime(new_ticker_wise_data['Date'])\n",
    "new_ticker_wise_data.set_index('Date', inplace = True)\n",
    "float_cols = ['Open', 'High', 'Low', 'Close']\n",
    "new_ticker_wise_data[float_cols] = new_ticker_wise_data[float_cols].astype(float)"
   ]
  },
  {
   "cell_type": "code",
   "execution_count": 53,
   "metadata": {},
   "outputs": [],
   "source": [
    "dividend_data = pd.read_excel('D:/Thesis/Dividend and Right History.xlsx', sheet_name= 'DividendHistory')\n",
    "right_share_data = pd.read_excel('D:/Thesis/Dividend and Right History.xlsx', sheet_name= 'RightShare')"
   ]
  },
  {
   "cell_type": "code",
   "execution_count": 54,
   "metadata": {},
   "outputs": [],
   "source": [
    "def cash_dividend_function(ticker):\n",
    "    dividend_data_ticker_filter = dividend_data[dividend_data['Symbol'] == ticker]\n",
    "    if len(dividend_data_ticker_filter) == 0: #If there is no any dividend in the specified ticker\n",
    "        return pd.DataFrame(columns = ['Symbol', 'Adjustment factor','BookCloseDate', 'Adjustment Type']) #return blank df with specified columns\n",
    "    else:\n",
    "        dividend_data_ticker_filter = dividend_data_ticker_filter[['Symbol', 'Cash Dividend(%)', 'DividendBookClosure']].dropna() #Drop NaN rows\n",
    "        dividend_data_ticker_filter.rename(columns = {'DividendBookClosure' : 'BookCloseDate', #Renaming columns to make uniform with \n",
    "                                                     'Cash Dividend(%)' : 'Adjustment factor'  # Bonus share and right share df\n",
    "                                                     }, inplace = True)\n",
    "        dividend_data_ticker_filter['Adjustment Type'] = 'Cash Dividend' #Column with \"Cash Dividend\"  \n",
    "        return dividend_data_ticker_filter"
   ]
  },
  {
   "cell_type": "code",
   "execution_count": 55,
   "metadata": {},
   "outputs": [],
   "source": [
    "def dividend_function(ticker):\n",
    "    dividend_data_ticker_filter = dividend_data[dividend_data['Symbol'] == ticker]\n",
    "    if len(dividend_data_ticker_filter) == 0: #If there is no any dividend in the specified ticker\n",
    "        return pd.DataFrame(columns = ['Symbol', 'Adjustment factor','BookCloseDate', 'Adjustment Type'])\n",
    "    else:\n",
    "        dividend_data_ticker_filter = dividend_data_ticker_filter[['Symbol', 'Bonus Dividend(%)', 'DividendBookClosure']].dropna()\n",
    "        dividend_data_ticker_filter.rename(columns = {'DividendBookClosure' : 'BookCloseDate',\n",
    "\n",
    "                                                     'Bonus Dividend(%)' : 'Adjustment factor'\n",
    "                                                     }, inplace = True)\n",
    "        dividend_data_ticker_filter['Adjustment Type'] = 'Bonus Share'\n",
    "        return dividend_data_ticker_filter"
   ]
  },
  {
   "cell_type": "code",
   "execution_count": 56,
   "metadata": {},
   "outputs": [],
   "source": [
    "def right_ratio(ratio):    \n",
    "    a = ratio.split(':')\n",
    "    a = list(map(float, a)) \n",
    "    ratio = []\n",
    "    for i in a:\n",
    "        if float(i) ==0:\n",
    "            pass\n",
    "        else:\n",
    "            ratio.append(float(i))\n",
    "    final_ratio = str(ratio[0])+ ':' + str(ratio[1])\n",
    "    return final_ratio"
   ]
  },
  {
   "cell_type": "code",
   "execution_count": 57,
   "metadata": {},
   "outputs": [],
   "source": [
    "def right_function(ticker):\n",
    "    right_data = right_share_data.copy()\n",
    "    right_data = right_data[right_data['Symbol'] == ticker]\n",
    "    if len(right_data) == 0: #If there is no any dividend in the specified ticker\n",
    "        return pd.DataFrame(columns = ['Symbol', 'Adjustment factor','BookCloseDate', 'Adjustment Type'])\n",
    "    else:\n",
    "        right_data['Ratio'] = right_data['Ratio'].dropna().astype(str) #Remove NaN Conveting right share ratio into string\n",
    "        right_data['Right_ratio'] = right_data.apply(lambda x : right_ratio(x['Ratio']), axis = 1) #Deploying right_ratio function\n",
    "        right_data.rename(columns = {'RightBookClosure' : 'BookCloseDate', #Which converts excel based unwanted format to \n",
    "                                    'Right_ratio' : 'Adjustment factor' #Normal right share ratio \n",
    "                                    }, inplace = True)\n",
    "\n",
    "        right_data['Adjustment Type'] = 'aRight Share' #Adding 'Adjustment Type' column with 'Right Share' as values.\n",
    "                                        #'a is added before Right Share so that it'll be easier to sort later in cash, bonus, and right sequence.\n",
    "        right_data = right_data[['Symbol', 'Adjustment factor','BookCloseDate', 'Adjustment Type'  ]]\n",
    "        return right_data"
   ]
  },
  {
   "cell_type": "code",
   "execution_count": 58,
   "metadata": {},
   "outputs": [],
   "source": [
    "def cash_bonus_and_right(ticker):\n",
    "    three_dfs = [cash_dividend_function(ticker), dividend_function(ticker), right_function(ticker)] #Brining cash, bonus, and right df together\n",
    "    if (len(three_dfs[0])==0) & (len(three_dfs[1])==0) & (len(three_dfs[2])==0): #If there's no cash, bonus, and right ever\n",
    "        return pd.DataFrame(columns = ['Symbol', 'Adjustment factor','BookCloseDate', 'Adjustment Type']) #return empty df\n",
    "    else: #If there's either cash, bonus, or right distribution\n",
    "        data_bonus_and_right = pd.concat(three_dfs,ignore_index=True) #Concat all threee dfs to one\n",
    "        #Now, sort the dataframe by book close date such that cash precedes bonus and bonus preceds right adjustment. \n",
    "        data_bonus_and_right.sort_values(by = ['BookCloseDate', 'Adjustment Type'], inplace = True, ascending= [True, False])\n",
    "        data_bonus_and_right = data_bonus_and_right[data_bonus_and_right['Adjustment factor'] != 0] #Exclude 0 adjustment factor\n",
    "        data_bonus_and_right[['Symbol', 'Adjustment factor','BookCloseDate', 'Adjustment Type'  ]] #Selecting only specified columns\n",
    "        return data_bonus_and_right"
   ]
  },
  {
   "cell_type": "markdown",
   "metadata": {},
   "source": [
    "# Part II - Price Adjustment Process"
   ]
  },
  {
   "cell_type": "markdown",
   "metadata": {},
   "source": [
    "#### data_fragmentation function fragments the data into different parts based on the book close dates. If there are three book close dates in the price series, the data is fragmented into 4 parts. Number of data fragments = number of book close dates +1"
   ]
  },
  {
   "cell_type": "code",
   "execution_count": 59,
   "metadata": {
    "scrolled": true
   },
   "outputs": [],
   "source": [
    "def data_fragmentation(ticker):\n",
    "    book_close_dates = []\n",
    "    fragmented_data = []\n",
    "    price_data = new_ticker_wise_data[new_ticker_wise_data['Ticker'] == ticker].copy() #Selecting price data for specified ticker\n",
    "    price_data.sort_index(axis = 0, inplace = True) #Sorting based on index i.e. Dates\n",
    "    for index, book_close_date in enumerate(df['BookCloseDate']):# for every book close dates\n",
    "        if index == 0: #If it's the first book close \n",
    "            partial_data = price_data.loc[price_data.index<book_close_date]#Get price series before the book close date\n",
    "            fragmented_data.append(partial_data) #Append pice series before the book close date to the fragmented data list\n",
    "            book_close_dates.append(book_close_date)#Append  book close date to 'book_close_dates' list.\n",
    "        elif book_close_date == list(df['BookCloseDate'])[index-1]: #If the current book close date is same as previous\n",
    "            pass # Then, Do nothing\n",
    "        else: #If current book close is not first book close date and not same as previous \n",
    "              #Mask for Getting price series between the previous book close and current book close date\n",
    "            date_range =  (price_data.index >= closure_dates[index-1]) & (price_data.index < closure_dates[index])\n",
    "            partial_data = price_data.loc[date_range] #Using the 'date_range' variable to to get the data\n",
    "            fragmented_data.append(partial_data) #Append the df to 'fragmented_data' list.\n",
    "#             book_close_dates.append(book_close_date) #append date to 'book_close_date'.\n",
    "    last_data = price_data.loc[price_data.index>=closure_dates[index]]#Getting the price data after the last book close date\n",
    "    fragmented_data.append(last_data) #appening last piece of data in fragmented data. \n",
    "    return fragmented_data"
   ]
  },
  {
   "cell_type": "code",
   "execution_count": 60,
   "metadata": {
    "scrolled": false
   },
   "outputs": [],
   "source": [
    "def final_data_df():\n",
    "    concat = []\n",
    "    for index, date in enumerate(df.BookCloseDate): #for each book close dates\n",
    "        adj_type = df.iloc[index,3] #Getting adjustment i.e. cash, bonus, or right by accessing df dataframe. \n",
    "        adjustment_factor = df.iloc[index,1] #Getting adjustment number by accessing df dataframe. \n",
    "        book_close = df.iloc[index,2] #Getting book close date\n",
    "        ticker = df.iloc[index, 0] #getting ticker\n",
    "        cols_to_convert = ['Open', 'High', 'Low', 'Close'] #Columns that are to be adjusted.\n",
    "\n",
    "        if index == 0: #If it is the first book close date\n",
    "            segmented_price_series = fragmented_data[book_close_dates.index(date)].copy() #Data Before First adjustment\n",
    "            # This code 'book_close_dates.index(date)' gives the position of current date in 'book_close_dates' list. \n",
    "            # book_close_dates list consists of unique (duplicate removed) book closure dates \n",
    "        else:\n",
    "            if date == list(df.BookCloseDate)[index-1]: #If current book close is same as previous\n",
    "                segmented_price_series = concat[index-1] #Assign segmented_price_series the value of previous concat value\n",
    "            else:\n",
    "                #concat previous data with current fragmented data\n",
    "                segmented_price_series = pd.concat([concat[index-1], fragmented_data[book_close_dates.index(date)]])\n",
    "        if adj_type == 'Cash Dividend':\n",
    "            price_day_before_bookclose = list(segmented_price_series[cols_to_convert].Close)[-1] #Getting last price of the current price series\n",
    "            #Cash Dividend adjustment using the formula.\n",
    "            segmented_price_series[cols_to_convert] = segmented_price_series[cols_to_convert]/(1+ adjustment_factor/price_day_before_bookclose)\n",
    "\n",
    "        elif adj_type == 'Bonus Share':\n",
    "            #Stock Dividend adjustment using the formula\n",
    "            segmented_price_series[cols_to_convert]/=(1+adjustment_factor/100)\n",
    "\n",
    "        elif adj_type == 'aRight Share':\n",
    "            #Splitting the right ratio by ':' and getting the % of right share to adjust.\n",
    "            right_adjustment = float(adjustment_factor.split(':')[1])/float(adjustment_factor.split(':')[0])\n",
    "            #Adjusting for right share by the right formula\n",
    "            segmented_price_series[cols_to_convert] = (segmented_price_series[cols_to_convert]+(right_adjustment*100))/(1+right_adjustment)\n",
    "\n",
    "        concat.append(segmented_price_series) #Append the adjusted price series to the list \"concat\".\n",
    "    #Getting the latest adjusted price series by accessing \"concat\" and appending the last piece of fragmented data to the series.\n",
    "    #The +1 in \"book_close_dates.index(date)+1\" is done because the fragmented data is +1 than the number of book close dates.\n",
    "    final_data = concat[index].append(fragmented_data[book_close_dates.index(date)+1])\n",
    "    return final_data"
   ]
  },
  {
   "cell_type": "code",
   "execution_count": null,
   "metadata": {},
   "outputs": [],
   "source": [
    "cash_bonus_and_right('MBL')"
   ]
  },
  {
   "cell_type": "markdown",
   "metadata": {},
   "source": [
    "## Multiple Stocks"
   ]
  },
  {
   "cell_type": "code",
   "execution_count": null,
   "metadata": {
    "scrolled": true
   },
   "outputs": [],
   "source": [
    "for index, ticker in enumerate(samples.Ticker):\n",
    "    #Samples comprises of list of companies to be adjusted.\n",
    "    print(index, ticker)\n",
    "    # cash_bonus_and_right function returns the dataframe with cash, bonus, and right with book close dates in a single df.\n",
    "    df = cash_bonus_and_right(ticker)\n",
    "    if len(df) == 0: #If the company has not announced cash, bonus, or right\n",
    "        adjusted_series = new_ticker_wise_data[new_ticker_wise_data['Ticker'] == ticker].copy() #Simply return raw price data\n",
    "        adjusted_series.sort_index(axis = 0, inplace = True)\n",
    "        adjusted_series.to_csv(f\"D:/Thesis/adjusted prices/{ticker}.csv\")\n",
    "    else: #If company has announced either cash, bonus, or right \n",
    "        closure_dates = list(df['BookCloseDate']) #Book close dates duplicates\n",
    "        book_close_dates = list(df.BookCloseDate.drop_duplicates()) #Book close dates without duplicates\n",
    "        fragmented_data = data_fragmentation(ticker) #Calling the 'data_fragmentation' function to get fragmented data.\n",
    "        adjusted_series = final_data_df() #Calling the \"final_data_df\" function for adjusting the price series\n",
    "        adjusted_series.to_csv(f\"D:/Thesis/adjusted prices/{ticker}.csv\")"
   ]
  }
 ],
 "metadata": {
  "kernelspec": {
   "display_name": "Python 3 (ipykernel)",
   "language": "python",
   "name": "python3"
  },
  "language_info": {
   "codemirror_mode": {
    "name": "ipython",
    "version": 3
   },
   "file_extension": ".py",
   "mimetype": "text/x-python",
   "name": "python",
   "nbconvert_exporter": "python",
   "pygments_lexer": "ipython3",
   "version": "3.11.3"
  }
 },
 "nbformat": 4,
 "nbformat_minor": 4
}
